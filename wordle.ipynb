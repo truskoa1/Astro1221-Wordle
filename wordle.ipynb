{
 "cells": [
  {
   "cell_type": "markdown",
   "id": "f25cb14a",
   "metadata": {},
   "source": [
    "# Project 1: Astronomy Wordle Game  \n",
    "*Authors: Eling Cheng and Allison Trusko*   \n",
    "\n",
    "---\n",
    "\n",
    "## 📌 Introduction\n",
    "In this project, we implement a **Wordle-style game** using astronomy terms.  \n",
    "Players guess 5-letter astronomy words with feedback given in color-coded form (green, yellow, gray).  \n",
    "\n",
    "Goals:\n",
    "- Demonstrate Python skills from **Weeks 1–4** (OOP, data structures, file I/O, NumPy, Matplotlib).\n",
    "- Show how fundamental programming tools can build a useful educational game.\n",
    "- Track player statistics across multiple games.  \n",
    "\n",
    "---\n",
    "\n",
    "## 🎮 How to Play\n",
    "- You have **6 attempts** to guess the secret word.\n",
    "- Feedback after each guess:\n",
    "  - 🟩 = correct letter in the correct spot  \n",
    "  - 🟨 = letter is in the word but wrong spot  \n",
    "  - ⬜ = letter not in the word  \n",
    "- After 3 failed guesses, you’ll receive a **subtle astronomy hint from Claude AI**.\n",
    "\n",
    "---\n",
    "\n",
    "## 🔍 Features\n",
    "- Difficulty levels: **Easy / Medium / Hard**  \n",
    "- Color-coded feedback like Wordle  \n",
    "- Claude AI integration for hints  \n",
    "- External `.txt` files for word lists (easy to expand or customize)\n",
    "\n"
   ]
  },
  {
   "cell_type": "markdown",
   "id": "99057e7d",
   "metadata": {},
   "source": [
    "We will first start by loading in the API key, as shown below"
   ]
  },
  {
   "cell_type": "code",
   "execution_count": 24,
   "id": "3f7f5c33",
   "metadata": {},
   "outputs": [
    {
     "name": "stderr",
     "output_type": "stream",
     "text": [
      "3609.27s - pydevd: Sending message related to process being replaced timed-out after 5 seconds\n"
     ]
    },
    {
     "name": "stdout",
     "output_type": "stream",
     "text": [
      "Requirement already satisfied: python-dotenv in /opt/anaconda3/lib/python3.13/site-packages (1.1.0)\n",
      "Requirement already satisfied: anthropic in /opt/anaconda3/lib/python3.13/site-packages (0.68.1)\n",
      "Requirement already satisfied: anyio<5,>=3.5.0 in /opt/anaconda3/lib/python3.13/site-packages (from anthropic) (4.7.0)\n",
      "Requirement already satisfied: distro<2,>=1.7.0 in /opt/anaconda3/lib/python3.13/site-packages (from anthropic) (1.9.0)\n",
      "Requirement already satisfied: docstring-parser<1,>=0.15 in /opt/anaconda3/lib/python3.13/site-packages (from anthropic) (0.17.0)\n",
      "Requirement already satisfied: httpx<1,>=0.25.0 in /opt/anaconda3/lib/python3.13/site-packages (from anthropic) (0.28.1)\n",
      "Requirement already satisfied: jiter<1,>=0.4.0 in /opt/anaconda3/lib/python3.13/site-packages (from anthropic) (0.11.0)\n",
      "Requirement already satisfied: pydantic<3,>=1.9.0 in /opt/anaconda3/lib/python3.13/site-packages (from anthropic) (2.10.3)\n",
      "Requirement already satisfied: sniffio in /opt/anaconda3/lib/python3.13/site-packages (from anthropic) (1.3.0)\n",
      "Requirement already satisfied: typing-extensions<5,>=4.10 in /opt/anaconda3/lib/python3.13/site-packages (from anthropic) (4.12.2)\n",
      "Requirement already satisfied: idna>=2.8 in /opt/anaconda3/lib/python3.13/site-packages (from anyio<5,>=3.5.0->anthropic) (3.7)\n",
      "Requirement already satisfied: certifi in /opt/anaconda3/lib/python3.13/site-packages (from httpx<1,>=0.25.0->anthropic) (2025.8.3)\n",
      "Requirement already satisfied: httpcore==1.* in /opt/anaconda3/lib/python3.13/site-packages (from httpx<1,>=0.25.0->anthropic) (1.0.9)\n",
      "Requirement already satisfied: h11>=0.16 in /opt/anaconda3/lib/python3.13/site-packages (from httpcore==1.*->httpx<1,>=0.25.0->anthropic) (0.16.0)\n",
      "Requirement already satisfied: annotated-types>=0.6.0 in /opt/anaconda3/lib/python3.13/site-packages (from pydantic<3,>=1.9.0->anthropic) (0.6.0)\n",
      "Requirement already satisfied: pydantic-core==2.27.1 in /opt/anaconda3/lib/python3.13/site-packages (from pydantic<3,>=1.9.0->anthropic) (2.27.1)\n"
     ]
    }
   ],
   "source": [
    "!pip install python-dotenv anthropic\n",
    "\n",
    "import os\n",
    "import random\n",
    "from dotenv import load_dotenv\n",
    "from IPython.display import display, Markdown\n",
    "from anthropic import Anthropic\n",
    "\n",
    "# Load environment variables\n",
    "load_dotenv()\n",
    "ANTHROPIC_API_KEY = os.getenv(\"ANTHROPIC_API_KEY\")\n",
    "\n",
    "if not ANTHROPIC_API_KEY:\n",
    "    print(\"⚠️ Missing Anthropic API key! Add it to your .env file as ANTHROPIC_API_KEY=your_key_here\")"
   ]
  },
  {
   "cell_type": "code",
   "execution_count": 32,
   "id": "487338c8",
   "metadata": {},
   "outputs": [],
   "source": [
    "def plot_histogram(self):\n",
    "   \n",
    "    \"\"\"\n",
    "    Plot a histogram of player performance:\n",
    "      - Bars for wins by # of guesses (1–6)\n",
    "      - Bar for losses\n",
    "      - Average guesses line\n",
    "    \"\"\"\n",
    "    import matplotlib.pyplot as plt\n",
    "    import numpy as np\n",
    "\n",
    "    dist = np.array(self.data[\"guess_distribution\"], dtype=int)\n",
    "    labels = [\"1\",\"2\",\"3\",\"4\",\"5\",\"6\",\"Losses\"]\n",
    "\n",
    "    total_wins = self.data[\"wins\"]\n",
    "    if total_wins > 0:\n",
    "        weighted_sum = sum((i+1) * dist[i] for i in range(6))\n",
    "        avg_guesses = weighted_sum / total_wins\n",
    "    else:\n",
    "        avg_guesses = None\n",
    "\n",
    "    plt.figure(figsize=(8,5))\n",
    "    bars = plt.bar(labels, dist, color=\"skyblue\", edgecolor=\"black\")\n",
    "\n",
    "    # Make the losses bar red\n",
    "    bars[-1].set_color(\"salmon\")\n",
    "\n",
    "    # Draw average guesses line if there were wins\n",
    "    if avg_guesses:\n",
    "        plt.axvline(x=avg_guesses-1, color=\"green\", linestyle=\"--\", label=f\"Avg Guesses: {avg_guesses:.2f}\")\n",
    "\n",
    "    plt.title(\"Player Performance Histogram\")\n",
    "    plt.xlabel(\"Guesses\")\n",
    "    plt.ylabel(\"Number of Games\")\n",
    "    plt.legend()\n",
    "    plt.tight_layout()\n",
    "    \n",
    "    # This is the key step to display the plot in Jupyter / GitHub\n",
    "    plt.show()"
   ]
  },
  {
   "cell_type": "code",
   "execution_count": 1,
   "id": "ac30026f",
   "metadata": {},
   "outputs": [],
   "source": [
    "class PlayerStats:\n",
    "    def __init__(self):\n",
    "        # guess_distribution: number of times player guessed 1–6 + losses\n",
    "        self.data = {\n",
    "            \"guess_distribution\": [0, 0, 0, 0, 0, 0, 0],  # 1–6 guesses + losses\n",
    "            \"wins\": 0\n",
    "        }\n",
    "\n",
    "    def plot_histogram(self):\n",
    "        import matplotlib.pyplot as plt\n",
    "        import numpy as np\n",
    "\n",
    "        dist = np.array(self.data[\"guess_distribution\"], dtype=int)\n",
    "        labels = [\"1\",\"2\",\"3\",\"4\",\"5\",\"6\",\"Losses\"]\n",
    "\n",
    "        total_wins = self.data[\"wins\"]\n",
    "        if total_wins > 0:\n",
    "            weighted_sum = sum((i+1) * dist[i] for i in range(6))\n",
    "            avg_guesses = weighted_sum / total_wins\n",
    "        else:\n",
    "            avg_guesses = None\n",
    "\n",
    "        plt.figure(figsize=(8,5))\n",
    "        bars = plt.bar(labels, dist, color=\"skyblue\", edgecolor=\"black\")\n",
    "        bars[-1].set_color(\"salmon\")  # losses\n",
    "\n",
    "        if avg_guesses:\n",
    "            plt.axvline(x=avg_guesses-1, color=\"green\", linestyle=\"--\", label=f\"Avg Guesses: {avg_guesses:.2f}\")\n",
    "\n",
    "        plt.title(\"Player Performance Histogram\")\n",
    "        plt.xlabel(\"Guesses\")\n",
    "        plt.ylabel(\"Number of Games\")\n",
    "        plt.legend()\n",
    "        plt.tight_layout()\n",
    "        plt.show()\n"
   ]
  },
  {
   "cell_type": "code",
   "execution_count": 2,
   "id": "fb4c89e0",
   "metadata": {},
   "outputs": [],
   "source": [
    "player = PlayerStats()\n"
   ]
  },
  {
   "cell_type": "code",
   "execution_count": 3,
   "id": "a5b5cea6",
   "metadata": {},
   "outputs": [],
   "source": [
    "player.data = {\n",
    "    \"guess_distribution\": [2, 3, 1, 0, 1, 0, 2],  # 1–6 guesses + losses\n",
    "    \"wins\": 7\n",
    "}\n"
   ]
  },
  {
   "cell_type": "markdown",
   "id": "fcb28d5a",
   "metadata": {},
   "source": [
    "explain step: loading words"
   ]
  },
  {
   "cell_type": "code",
   "execution_count": 26,
   "id": "c8069793",
   "metadata": {},
   "outputs": [],
   "source": [
    "def load_words(difficulty):\n",
    "    filename = f\"{difficulty.lower()}_words.txt\"\n",
    "    with open(filename, \"r\") as f:\n",
    "        return [line.strip().upper() for line in f if line.strip()]\n"
   ]
  },
  {
   "cell_type": "code",
   "execution_count": 4,
   "id": "5684645d",
   "metadata": {},
   "outputs": [
    {
     "name": "stderr",
     "output_type": "stream",
     "text": [
      "Matplotlib is building the font cache; this may take a moment.\n"
     ]
    },
    {
     "data": {
      "image/png": "[encoded data removed]",
      "text/plain": [
       "<Figure size 800x500 with 1 Axes>"
      ]
     },
     "metadata": {},
     "output_type": "display_data"
    }
   ],
   "source": [
    "player.plot_histogram()\n"
   ]
  },
  {
   "cell_type": "markdown",
   "id": "207ee1ca",
   "metadata": {},
   "source": [
    "explain step: defining wordle game class"
   ]
  },
  {
   "cell_type": "code",
   "execution_count": 27,
   "id": "7370a480",
   "metadata": {},
   "outputs": [],
   "source": [
    "class WordleGame:\n",
    "    def __init__(self, word_list):\n",
    "        self.word_list = word_list\n",
    "        self.secret_word = random.choice(word_list).upper()\n",
    "        self.max_attempts = 6\n",
    "        self.attempts = 0\n",
    "        self.guesses = []\n",
    "\n",
    "    def check_guess(self, guess):\n",
    "        guess = guess.upper()\n",
    "        feedback = []\n",
    "        for i, letter in enumerate(guess):\n",
    "            if letter == self.secret_word[i]:\n",
    "                feedback.append((\"🟩\", letter))  # Green\n",
    "            elif letter in self.secret_word:\n",
    "                feedback.append((\"🟨\", letter))  # Yellow\n",
    "            else:\n",
    "                feedback.append((\"⬜\", letter))  # Gray\n",
    "        return feedback\n",
    "\n",
    "    def make_guess(self, guess):\n",
    "        if len(guess) != 5:\n",
    "            return \"Guess must be 5 letters!\"\n",
    "        self.attempts += 1\n",
    "        self.guesses.append(guess.upper())\n",
    "        return self.check_guess(guess)\n",
    "\n",
    "    def is_game_over(self):\n",
    "        return self.attempts >= self.max_attempts or self.secret_word in self.guesses\n",
    "\n",
    "    def reveal_word(self):\n",
    "        return self.secret_word"
   ]
  },
  {
   "cell_type": "markdown",
   "id": "126351e3",
   "metadata": {},
   "source": [
    "explain step: defining LLM hint class"
   ]
  },
  {
   "cell_type": "code",
   "execution_count": 28,
   "id": "652cd2ba",
   "metadata": {},
   "outputs": [],
   "source": [
    "client = Anthropic(api_key=ANTHROPIC_API_KEY)\n",
    "\n",
    "class WordleLLMHelper:\n",
    "    def __init__(self, client):\n",
    "        self.client = client\n",
    "\n",
    "    def get_hint(self, word):\n",
    "        \"\"\"Ask Claude for a subtle astronomy hint without revealing the word.\"\"\"\n",
    "        prompt = f\"Give a subtle one-sentence astronomy hint for the word '{word}' without saying the word itself.\"\n",
    "        response = self.client.messages.create(\n",
    "            model=\"claude-sonnet-4-20250514\",\n",
    "            max_tokens=50,\n",
    "            messages=[{\"role\": \"user\", \"content\": prompt}]\n",
    "        )\n",
    "        return response.content[0].text"
   ]
  },
  {
   "cell_type": "markdown",
   "id": "7686d55a",
   "metadata": {},
   "source": [
    "explain step: Wordle Play Function"
   ]
  },
  {
   "cell_type": "code",
   "execution_count": 29,
   "id": "1058ed66",
   "metadata": {},
   "outputs": [],
   "source": [
    "def play_wordle():\n",
    "    difficulty = input(\"Choose difficulty (easy / medium / hard): \").strip().lower()\n",
    "    if difficulty not in [\"easy\", \"medium\", \"hard\"]:\n",
    "        print(\"Invalid choice. Defaulting to 'easy'.\")\n",
    "        difficulty = \"easy\"\n",
    "\n",
    "    word_list = load_words(difficulty)\n",
    "    game = WordleGame(word_list)\n",
    "    helper = WordleLLMHelper(client)\n",
    "\n",
    "    print(f\"\\nWelcome to Astronomy Wordle! 🚀 Difficulty: {difficulty.title()}\")\n",
    "    print(\"Guess the 5-letter astronomy word. You have 6 tries.\")\n",
    "\n",
    "    while not game.is_game_over():\n",
    "        guess = input(f\"\\nAttempt {game.attempts+1}/6 → \").strip().upper()\n",
    "        feedback = game.make_guess(guess)\n",
    "\n",
    "        if isinstance(feedback, str):  # wrong input length\n",
    "            print(feedback)\n",
    "            continue\n",
    "\n",
    "        # Display feedback\n",
    "        display(Markdown(\"\".join([f\"{symbol}{letter}\" for symbol, letter in feedback])))\n",
    "\n",
    "        # Check win\n",
    "        if guess == game.secret_word:\n",
    "            print(\"\\n🎉 Correct! You found the word!\")\n",
    "            return\n",
    "\n",
    "        # After 3 failed guesses → Claude hint\n",
    "        if game.attempts == 3 and guess != game.secret_word:\n",
    "            hint = helper.get_hint(game.secret_word)\n",
    "            print(f\"\\n💡 Hint: {hint}\")\n",
    "\n",
    "    print(f\"\\n❌ Out of attempts! The word was: {game.reveal_word()}\")"
   ]
  },
  {
   "cell_type": "markdown",
   "id": "aad66d69",
   "metadata": {},
   "source": [
    "Now, just run the play_wordle() cell and you can play our Astronomy Wordle!!"
   ]
  },
  {
   "cell_type": "code",
   "execution_count": 30,
   "id": "21d429ec",
   "metadata": {},
   "outputs": [
    {
     "name": "stdout",
     "output_type": "stream",
     "text": [
      "\n",
      "Welcome to Astronomy Wordle! 🚀 Difficulty: Easy\n",
      "Guess the 5-letter astronomy word. You have 6 tries.\n"
     ]
    },
    {
     "data": {
      "text/markdown": [
       "🟩S🟩T🟩A🟩R🟩S"
      ],
      "text/plain": [
       "<IPython.core.display.Markdown object>"
      ]
     },
     "metadata": {},
     "output_type": "display_data"
    },
    {
     "name": "stdout",
     "output_type": "stream",
     "text": [
      "\n",
      "🎉 Correct! You found the word!\n"
     ]
    }
   ],
   "source": [
    "play_wordle()"
   ]
  },
  {
   "cell_type": "markdown",
   "id": "dd4b2cb7",
   "metadata": {},
   "source": []
  }
 ],
 "metadata": {
  "kernelspec": {
   "display_name": "base",
   "language": "python",
   "name": "python3"
  },
  "language_info": {
   "codemirror_mode": {
    "name": "ipython",
    "version": 3
   },
   "file_extension": ".py",
   "mimetype": "text/x-python",
   "name": "python",
   "nbconvert_exporter": "python",
   "pygments_lexer": "ipython3",
   "version": "3.13.5"
  }
 },
 "nbformat": 4,
 "nbformat_minor": 5
}
