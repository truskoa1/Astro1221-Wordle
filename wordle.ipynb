{
 "cells": [
  {
   "cell_type": "markdown",
   "id": "f25cb14a",
   "metadata": {},
   "source": [
    "# Project 1: Astronomy Wordle Game  \n",
    "*Authors: Eling Cheng and Allison Trusko*   \n",
    "\n",
    "---\n",
    "\n",
    "## 📌 Introduction\n",
    "In this project, we implement a **Wordle-style game** using astronomy terms.  \n",
    "Players guess 5-letter astronomy words with feedback given in color-coded form (green, yellow, gray).  \n",
    "\n",
    "Goals:\n",
    "- Demonstrate Python skills from **Weeks 1–4** (OOP, data structures, file I/O, NumPy, Matplotlib).\n",
    "- Show how fundamental programming tools can build a useful educational game.\n",
    "- Track player statistics across multiple games.  \n",
    "\n",
    "---\n",
    "\n",
    "## 🎮 How to Play\n",
    "- You have **6 attempts** to guess the secret word.\n",
    "- Feedback after each guess:\n",
    "  - 🟩 = correct letter in the correct spot  \n",
    "  - 🟨 = letter is in the word but wrong spot  \n",
    "  - ⬜ = letter not in the word  \n",
    "- After 3 failed guesses, you’ll receive a **subtle astronomy hint from Claude AI**.\n",
    "\n",
    "---\n",
    "\n",
    "## 🔍 Features\n",
    "- Difficulty levels: **Easy / Medium / Hard**  \n",
    "- Color-coded feedback like Wordle  \n",
    "- Claude AI integration for hints  \n",
    "- External `.txt` files for word lists (easy to expand or customize)\n",
    "\n"
   ]
  },
  {
   "cell_type": "code",
   "execution_count": 1,
   "id": "d7d504dd",
   "metadata": {},
   "outputs": [
    {
     "name": "stdout",
     "output_type": "stream",
     "text": [
      "hi\n"
     ]
    }
   ],
   "source": [
    "print(\"hi\")"
   ]
  },
  {
   "cell_type": "markdown",
   "id": "99057e7d",
   "metadata": {},
   "source": [
    "We will first start by loading in the API key, as shown below"
   ]
  },
  {
   "cell_type": "code",
   "execution_count": null,
   "id": "3f7f5c33",
   "metadata": {},
   "outputs": [],
   "source": [
    "!pip install python-dotenv anthropic\n",
    "\n",
    "import os\n",
    "import random\n",
    "from dotenv import load_dotenv\n",
    "from IPython.display import display, Markdown\n",
    "from anthropic import Anthropic\n",
    "\n",
    "# Load environment variables\n",
    "load_dotenv()\n",
    "ANTHROPIC_API_KEY = os.getenv(\"ANTHROPIC_API_KEY\")\n",
    "\n",
    "if not ANTHROPIC_API_KEY:\n",
    "    print(\"⚠️ Missing Anthropic API key! Add it to your .env file as ANTHROPIC_API_KEY=your_key_here\")"
   ]
  },
  {
   "cell_type": "markdown",
   "id": "fcb28d5a",
   "metadata": {},
   "source": [
    "explain step: loading words"
   ]
  },
  {
   "cell_type": "code",
   "execution_count": null,
   "id": "c8069793",
   "metadata": {},
   "outputs": [],
   "source": [
    "def load_words(difficulty):\n",
    "    filename = f\"{difficulty.lower()}_words.txt\"\n",
    "    with open(filename, \"r\") as f:\n",
    "        return [line.strip().upper() for line in f if line.strip()]\n"
   ]
  },
  {
   "cell_type": "markdown",
   "id": "207ee1ca",
   "metadata": {},
   "source": [
    "explain step: defining wordle game class"
   ]
  },
  {
   "cell_type": "code",
   "execution_count": null,
   "id": "7370a480",
   "metadata": {},
   "outputs": [],
   "source": [
    "class WordleGame:\n",
    "    def __init__(self, word_list):\n",
    "        self.word_list = word_list\n",
    "        self.secret_word = random.choice(word_list).upper()\n",
    "        self.max_attempts = 6\n",
    "        self.attempts = 0\n",
    "        self.guesses = []\n",
    "\n",
    "    def check_guess(self, guess):\n",
    "        guess = guess.upper()\n",
    "        feedback = []\n",
    "        for i, letter in enumerate(guess):\n",
    "            if letter == self.secret_word[i]:\n",
    "                feedback.append((\"🟩\", letter))  # Green\n",
    "            elif letter in self.secret_word:\n",
    "                feedback.append((\"🟨\", letter))  # Yellow\n",
    "            else:\n",
    "                feedback.append((\"⬜\", letter))  # Gray\n",
    "        return feedback\n",
    "\n",
    "    def make_guess(self, guess):\n",
    "        if len(guess) != 5:\n",
    "            return \"Guess must be 5 letters!\"\n",
    "        self.attempts += 1\n",
    "        self.guesses.append(guess.upper())\n",
    "        return self.check_guess(guess)\n",
    "\n",
    "    def is_game_over(self):\n",
    "        return self.attempts >= self.max_attempts or self.secret_word in self.guesses\n",
    "\n",
    "    def reveal_word(self):\n",
    "        return self.secret_word"
   ]
  },
  {
   "cell_type": "markdown",
   "id": "126351e3",
   "metadata": {},
   "source": [
    "explain step: defining LLM hint class"
   ]
  },
  {
   "cell_type": "code",
   "execution_count": null,
   "id": "652cd2ba",
   "metadata": {},
   "outputs": [],
   "source": [
    "client = Anthropic(api_key=ANTHROPIC_API_KEY)\n",
    "\n",
    "class WordleLLMHelper:\n",
    "    def __init__(self, client):\n",
    "        self.client = client\n",
    "\n",
    "    def get_hint(self, word):\n",
    "        \"\"\"Ask Claude for a subtle astronomy hint without revealing the word.\"\"\"\n",
    "        prompt = f\"Give a subtle one-sentence astronomy hint for the word '{word}' without saying the word itself.\"\n",
    "        response = self.client.messages.create(\n",
    "            model=\"claude-sonnet-4-20250514\",\n",
    "            max_tokens=50,\n",
    "            messages=[{\"role\": \"user\", \"content\": prompt}]\n",
    "        )\n",
    "        return response.content[0].text"
   ]
  },
  {
   "cell_type": "markdown",
   "id": "7686d55a",
   "metadata": {},
   "source": [
    "explain step: Wordle Play Function"
   ]
  },
  {
   "cell_type": "code",
   "execution_count": null,
   "id": "1058ed66",
   "metadata": {},
   "outputs": [],
   "source": [
    "def play_wordle():\n",
    "    difficulty = input(\"Choose difficulty (easy / medium / hard): \").strip().lower()\n",
    "    if difficulty not in [\"easy\", \"medium\", \"hard\"]:\n",
    "        print(\"Invalid choice. Defaulting to 'easy'.\")\n",
    "        difficulty = \"easy\"\n",
    "\n",
    "    word_list = load_words(difficulty)\n",
    "    game = WordleGame(word_list)\n",
    "    helper = WordleLLMHelper(client)\n",
    "\n",
    "    print(f\"\\nWelcome to Astronomy Wordle! 🚀 Difficulty: {difficulty.title()}\")\n",
    "    print(\"Guess the 5-letter astronomy word. You have 6 tries.\")\n",
    "\n",
    "    while not game.is_game_over():\n",
    "        guess = input(f\"\\nAttempt {game.attempts+1}/6 → \").strip().upper()\n",
    "        feedback = game.make_guess(guess)\n",
    "\n",
    "        if isinstance(feedback, str):  # wrong input length\n",
    "            print(feedback)\n",
    "            continue\n",
    "\n",
    "        # Display feedback\n",
    "        display(Markdown(\"\".join([f\"{symbol}{letter}\" for symbol, letter in feedback])))\n",
    "\n",
    "        # Check win\n",
    "        if guess == game.secret_word:\n",
    "            print(\"\\n🎉 Correct! You found the word!\")\n",
    "            return\n",
    "\n",
    "        # After 3 failed guesses → Claude hint\n",
    "        if game.attempts == 3 and guess != game.secret_word:\n",
    "            hint = helper.get_hint(game.secret_word)\n",
    "            print(f\"\\n💡 Hint: {hint}\")\n",
    "\n",
    "    print(f\"\\n❌ Out of attempts! The word was: {game.reveal_word()}\")"
   ]
  },
  {
   "cell_type": "markdown",
   "id": "aad66d69",
   "metadata": {},
   "source": [
    "Now, just run the play_wordle() cell and you can play our Astronomy Wordle!!"
   ]
  },
  {
   "cell_type": "code",
   "execution_count": null,
   "id": "21d429ec",
   "metadata": {},
   "outputs": [],
   "source": [
    "play_wordle()"
   ]
  }
 ],
 "metadata": {
  "kernelspec": {
   "display_name": "base",
   "language": "python",
   "name": "python3"
  },
  "language_info": {
   "codemirror_mode": {
    "name": "ipython",
    "version": 3
   },
   "file_extension": ".py",
   "mimetype": "text/x-python",
   "name": "python",
   "nbconvert_exporter": "python",
   "pygments_lexer": "ipython3",
   "version": "3.13.5"
  }
 },
 "nbformat": 4,
 "nbformat_minor": 5
}
