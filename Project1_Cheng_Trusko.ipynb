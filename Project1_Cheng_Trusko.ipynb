{
 "cells": [
  {
   "cell_type": "markdown",
   "id": "f25cb14a",
   "metadata": {},
   "source": [
    "# Project 1: Astronomy Wordle Game  \n",
    "*Authors: Eling Cheng and Allison Trusko*   \n",
    "Github Repository: https://github.com/truskoa1/Astro1221-Wordle.git\n",
    "\n",
    "---\n",
    "\n",
    "## 📌 Introduction\n",
    "In this project, we implement a **Wordle-style game** using astronomy terms.  \n",
    "Players guess 5-letter astronomy words with feedback given in color-coded form (green, yellow, gray).  \n",
    "\n",
    "Goals:\n",
    "- Demonstrate Python skills from **Weeks 1–4** (OOP, data structures, file I/O, NumPy, Matplotlib).\n",
    "- Show how fundamental programming tools can build a useful educational game.\n",
    "- Track player statistics across multiple games.  \n",
    "\n",
    "---\n",
    "\n",
    "## 🎮 How to Play\n",
    "- You have **6 attempts** to guess the secret word.\n",
    "- Feedback after each guess:\n",
    "  - 🟩 = correct letter in the correct spot  \n",
    "  - 🟨 = letter is in the word but wrong spot  \n",
    "  - ⬜ = letter not in the word  \n",
    "- After 3 failed guesses, you’ll receive a **subtle astronomy hint from Claude AI**.\n",
    "\n",
    "---\n",
    "\n",
    "## 🔍 Features\n",
    "- Difficulty levels: **Easy / Medium / Hard**  \n",
    "- Color-coded feedback like Wordle  \n",
    "- Claude AI integration for hints  \n",
    "- External `.txt` files for word lists (easy to expand or customize)\n",
    "\n"
   ]
  },
  {
   "cell_type": "markdown",
   "id": "99057e7d",
   "metadata": {},
   "source": [
    "We will first start by loading in the API key, as shown below"
   ]
  },
  {
   "cell_type": "markdown",
   "id": "4030c7c4",
   "metadata": {},
   "source": [
    "### Setup for Anthropic API\n",
    "\n",
    "- Installs required packages (`python-dotenv` and `anthropic`).  \n",
    "- Imports libraries for environment variables, randomness, markdown display, and the Anthropic API.  \n",
    "- Loads environment variables from a `.env` file.  \n",
    "- Retrieves the Anthropic API key from the environment.  \n",
    "- Prints a warning if the API key is missing, reminding the user to add it to the `.env` file.  \n"
   ]
  },
  {
   "cell_type": "code",
   "execution_count": 9,
   "id": "3f7f5c33",
   "metadata": {},
   "outputs": [
    {
     "name": "stdout",
     "output_type": "stream",
     "text": [
      "Requirement already satisfied: python-dotenv in c:\\users\\trusk\\anaconda\\lib\\site-packages (1.1.0)\n",
      "Requirement already satisfied: anthropic in c:\\users\\trusk\\anaconda\\lib\\site-packages (0.68.0)\n",
      "Requirement already satisfied: anyio<5,>=3.5.0 in c:\\users\\trusk\\anaconda\\lib\\site-packages (from anthropic) (4.7.0)\n",
      "Requirement already satisfied: distro<2,>=1.7.0 in c:\\users\\trusk\\anaconda\\lib\\site-packages (from anthropic) (1.9.0)\n",
      "Requirement already satisfied: docstring-parser<1,>=0.15 in c:\\users\\trusk\\anaconda\\lib\\site-packages (from anthropic) (0.17.0)\n",
      "Requirement already satisfied: httpx<1,>=0.25.0 in c:\\users\\trusk\\anaconda\\lib\\site-packages (from anthropic) (0.28.1)\n",
      "Requirement already satisfied: jiter<1,>=0.4.0 in c:\\users\\trusk\\anaconda\\lib\\site-packages (from anthropic) (0.11.0)\n",
      "Requirement already satisfied: pydantic<3,>=1.9.0 in c:\\users\\trusk\\anaconda\\lib\\site-packages (from anthropic) (2.10.3)\n",
      "Requirement already satisfied: sniffio in c:\\users\\trusk\\anaconda\\lib\\site-packages (from anthropic) (1.3.0)\n",
      "Requirement already satisfied: typing-extensions<5,>=4.10 in c:\\users\\trusk\\anaconda\\lib\\site-packages (from anthropic) (4.12.2)\n",
      "Requirement already satisfied: idna>=2.8 in c:\\users\\trusk\\anaconda\\lib\\site-packages (from anyio<5,>=3.5.0->anthropic) (3.7)\n",
      "Requirement already satisfied: certifi in c:\\users\\trusk\\anaconda\\lib\\site-packages (from httpx<1,>=0.25.0->anthropic) (2025.8.3)\n",
      "Requirement already satisfied: httpcore==1.* in c:\\users\\trusk\\anaconda\\lib\\site-packages (from httpx<1,>=0.25.0->anthropic) (1.0.9)\n",
      "Requirement already satisfied: h11>=0.16 in c:\\users\\trusk\\anaconda\\lib\\site-packages (from httpcore==1.*->httpx<1,>=0.25.0->anthropic) (0.16.0)\n",
      "Requirement already satisfied: annotated-types>=0.6.0 in c:\\users\\trusk\\anaconda\\lib\\site-packages (from pydantic<3,>=1.9.0->anthropic) (0.6.0)\n",
      "Requirement already satisfied: pydantic-core==2.27.1 in c:\\users\\trusk\\anaconda\\lib\\site-packages (from pydantic<3,>=1.9.0->anthropic) (2.27.1)\n"
     ]
    }
   ],
   "source": [
    "!pip install python-dotenv anthropic\n",
    "\n",
    "import os\n",
    "import random\n",
    "from dotenv import load_dotenv\n",
    "from IPython.display import display, Markdown\n",
    "from anthropic import Anthropic\n",
    "\n",
    "# Load environment variables\n",
    "load_dotenv()\n",
    "ANTHROPIC_API_KEY = os.getenv(\"ANTHROPIC_API_KEY\")\n",
    "\n",
    "if not ANTHROPIC_API_KEY:\n",
    "    print(\"⚠️ Missing Anthropic API key! Add it to your .env file as ANTHROPIC_API_KEY=your_key_here\")"
   ]
  },
  {
   "cell_type": "markdown",
   "id": "cc9c09d3",
   "metadata": {},
   "source": [
    "# PlayerStats Class\n",
    "\n",
    "This class is responsible for storing and displaying a player’s game statistics. It has three main parts:\n",
    "\n",
    "**Initialization:**  \n",
    "- Creates a dictionary to store game data.  \n",
    "- Tracks how many times the player wins in 1–6 guesses.  \n",
    "- Keeps a separate slot for losses.  \n",
    "- Stores total wins and total losses.  \n",
    "\n",
    "**Recording a Game:**  \n",
    "- Updates the statistics after each game.  \n",
    "- If the player wins, the correct slot for the number of guesses is incremented, and total wins increase.  \n",
    "- If the player loses, the losses slot and total losses are incremented.  \n",
    "\n",
    "**Plotting a Histogram:**  \n",
    "- Uses matplotlib to create a bar chart showing performance.  \n",
    "- Converts stored data into a format for plotting and adds labels.  \n",
    "- Highlights the losses bar in a different color.  \n",
    "- Calculates the average number of guesses per win and shows it as a dashed line if available.  \n",
    "- Adds a title, axis labels, and a legend, then displays the chart.  \n"
   ]
  },
  {
   "cell_type": "code",
   "execution_count": 10,
   "id": "ac30026f",
   "metadata": {},
   "outputs": [],
   "source": [
    "class PlayerStats:\n",
    "    def __init__(self):\n",
    "        # guess_distribution: number of times player guessed 1–6 + losses\n",
    "        self.data = {\n",
    "            \"guess_distribution\": [0, 0, 0, 0, 0, 0, 0],  # 1–6 guesses + losses\n",
    "            \"wins\": 0,\n",
    "            \"losses\": 0\n",
    "        }\n",
    "\n",
    "    def record_game(self, attempts, won):\n",
    "        \"\"\"\n",
    "        Update stats after a game.\n",
    "        - attempts: number of guesses used (1–6)\n",
    "        - won: True if player won, False if lost\n",
    "        \"\"\"\n",
    "        if won:\n",
    "            self.data[\"guess_distribution\"][attempts - 1] += 1\n",
    "            self.data[\"wins\"] += 1\n",
    "        else:\n",
    "            self.data[\"guess_distribution\"][-1] += 1  # losses slot\n",
    "            self.data[\"losses\"] += 1\n",
    "\n",
    "    def plot_histogram(self):\n",
    "        import matplotlib.pyplot as plt\n",
    "        import numpy as np\n",
    "\n",
    "        dist = np.array(self.data[\"guess_distribution\"], dtype=int)\n",
    "        labels = [\"1\",\"2\",\"3\",\"4\",\"5\",\"6\",\"Losses\"]\n",
    "\n",
    "        total_wins = self.data[\"wins\"]\n",
    "        if total_wins > 0:\n",
    "            weighted_sum = sum((i+1) * dist[i] for i in range(6))\n",
    "            avg_guesses = weighted_sum / total_wins\n",
    "        else:\n",
    "            avg_guesses = None\n",
    "\n",
    "        plt.figure(figsize=(8,5))\n",
    "        bars = plt.bar(labels, dist, color=\"skyblue\", edgecolor=\"black\")\n",
    "        bars[-1].set_color(\"salmon\")  # losses bar\n",
    "\n",
    "        if avg_guesses:\n",
    "            plt.axvline(x=avg_guesses-1, color=\"green\", linestyle=\"--\",\n",
    "                        label=f\"Avg Guesses: {avg_guesses:.2f}\")\n",
    "\n",
    "        plt.title(\"Player Performance Histogram\")\n",
    "        plt.xlabel(\"Guesses\")\n",
    "        plt.ylabel(\"Number of Games\")\n",
    "        plt.legend()\n",
    "        plt.tight_layout()\n",
    "        plt.show()"
   ]
  },
  {
   "cell_type": "markdown",
   "id": "1f348a31",
   "metadata": {},
   "source": [
    "## Word Loading Functions  \n",
    "\n",
    "We define two helper functions:  \n",
    "\n",
    "- One function loads the **astronomy word list** based on the chosen difficulty (easy, medium, hard). It builds the correct filename, opens the file, removes empty lines, formats everything in uppercase, and returns the words as a **list**.  \n",
    "\n",
    "- The other function loads a **general dictionary of valid guesses** from a separate file. It keeps only five-letter alphabetic words, converts them to uppercase for consistency, and stores them in a **set**.  \n",
    "\n",
    "### Why list vs. set?  \n",
    "\n",
    "- **Astronomy word list (list):** We use a **list** because later in the game we need to randomly choose a secret word. Lists keep the order of items and work well with functions like `random.choice()`.  \n",
    "\n",
    "- **Valid guesses (set):** We use a **set** because during gameplay we only need to check if a guessed word is valid or not. Sets are optimized for super-fast lookups (`O(1)` on average), so checking membership (`if guess in valid_words`) is much faster than searching through a list.  \n",
    "\n",
    "💡 **Example:** If the player types in `\"EARTH\"`, the program checks instantly whether `\"EARTH\"` exists inside the set of valid words. Using a set makes this almost instantaneous compared to scanning through thousands of words in a list.  \n"
   ]
  },
  {
   "cell_type": "code",
   "execution_count": 11,
   "id": "c8069793",
   "metadata": {},
   "outputs": [],
   "source": [
    "# load astronomy word list based on chosen difficulty\n",
    "def load_words(difficulty):\n",
    "    filename = f\"{difficulty.lower()}_words.txt\"\n",
    "    #try and except blocks for error handling\n",
    "    try:\n",
    "        with open(filename, \"r\") as f:\n",
    "            return [line.strip().upper() for line in f if line.strip()]\n",
    "    except FileNotFoundError:\n",
    "        print(f\"⚠️ Word list file '{filename}' not found! Defaulting to empty list.\")\n",
    "        return []\n",
    "\n",
    "# load valid word list and stores in a set\n",
    "def load_valid_words(filename=\"valid_words.txt\"):\n",
    "    #try and except blocks for error handling\n",
    "    try:\n",
    "        with open(filename, \"r\", encoding=\"utf-8\") as f:\n",
    "            return {line.strip().upper() for line in f if len(line.strip()) == 5 and line.strip().isalpha()}\n",
    "    except FileNotFoundError:\n",
    "        print(f\"⚠️ Valid words file '{filename}' not found! Using empty set.\")\n",
    "        return set()"
   ]
  },
  {
   "cell_type": "markdown",
   "id": "748df811",
   "metadata": {},
   "source": [
    "# WordleGame Class\n",
    "\n",
    "**Initialization**\n",
    "- Takes in a list of words as input.  \n",
    "- Randomly selects one word from that list and stores it as the **secret word** (converted to uppercase for consistency).  \n",
    "- Sets the maximum number of allowed attempts to 6.  \n",
    "- Starts with 0 attempts made and an empty list to store the player’s guesses.  \n",
    "\n",
    "**check_guess**\n",
    "- Converts the player’s guess to uppercase for consistency.  \n",
    "- Creates a feedback list that pairs each letter with a symbol.  \n",
    "- Uses a **two-pass process**:\n",
    "  - **Pass 1 (green squares 🟩):** Marks letters that are in the correct position. These letters are removed from consideration so they aren’t reused.  \n",
    "  - **Pass 2 (yellow 🟨 / gray ⬜):** For the remaining letters, checks if they exist somewhere else in the secret word (yellow) or not at all (gray).  \n",
    "- Returns structured feedback showing each guessed letter along with its correctness symbol.  \n",
    "\n",
    "**make_guess**\n",
    "- Validates that the guess is exactly 5 letters long; otherwise, returns an error message.  \n",
    "- Increases the attempt counter and records the guess.  \n",
    "- Calls `check_guess` to generate feedback for that guess and returns it.  \n",
    "\n",
    "**is_game_over**\n",
    "- Returns `True` if the player has used up all 6 attempts or if the secret word has been guessed correctly.  \n",
    "- Otherwise, returns `False`, meaning the game continues.  \n",
    "\n",
    "**reveal_word**\n",
    "- Returns the secret word. Used at the end of the game if the player did not guess it correctly.  \n",
    "\n",
    "**Feedback System**\n",
    "- 🟩 = correct letter in the correct position.  \n",
    "- 🟨 = correct letter but in the wrong position.  \n",
    "- ⬜ = letter not in the word at all.  \n",
    "\n",
    "This design ensures that repeated letters are handled properly, guesses are tracked, and the player always receives clear feedback about their progress.  \n"
   ]
  },
  {
   "cell_type": "code",
   "execution_count": 12,
   "id": "7370a480",
   "metadata": {},
   "outputs": [],
   "source": [
    "class WordleGame:\n",
    "    def __init__(self, word_list):\n",
    "        self.word_list = word_list\n",
    "        self.secret_word = random.choice(word_list).upper()\n",
    "        self.max_attempts = 6\n",
    "        self.attempts = 0\n",
    "        self.guesses = []\n",
    "\n",
    "    def check_guess(self, guess):\n",
    "        guess = guess.upper()\n",
    "        feedback = []\n",
    "\n",
    "        # Track letters left in the secret word\n",
    "        secret_letters = list(self.secret_word)\n",
    "\n",
    "        # Pass 1: Mark greens\n",
    "        for i, letter in enumerate(guess):\n",
    "            if letter == self.secret_word[i]:\n",
    "                feedback.append((\"🟩\", letter))\n",
    "                secret_letters[i] = None  # mark this letter as used\n",
    "            else:\n",
    "                feedback.append((\"\", letter))  # placeholder for now\n",
    "\n",
    "        # Pass 2: Mark yellows and grays\n",
    "        for i, (symbol, letter) in enumerate(feedback):\n",
    "            if symbol:  # already green\n",
    "                continue\n",
    "            elif letter in secret_letters:\n",
    "                feedback[i] = (\"🟨\", letter)  # yellow\n",
    "                secret_letters[secret_letters.index(letter)] = None  # mark as used\n",
    "            else:\n",
    "                feedback[i] = (\"⬜\", letter)  # gray\n",
    "\n",
    "        return feedback\n",
    "\n",
    "    def make_guess(self, guess):\n",
    "        if len(guess) != 5:\n",
    "            return \"Guess must be 5 letters!\"\n",
    "        self.attempts += 1\n",
    "        self.guesses.append(guess.upper())\n",
    "        return self.check_guess(guess)\n",
    "\n",
    "    def is_game_over(self):\n",
    "        return self.attempts >= self.max_attempts or self.secret_word in self.guesses\n",
    "\n",
    "    def reveal_word(self):\n",
    "        return self.secret_word"
   ]
  },
  {
   "cell_type": "markdown",
   "id": "80dbb779",
   "metadata": {},
   "source": [
    "# WordleLLMHelper Class\n",
    "\n",
    "**Setup:**  \n",
    "- Connects to the Anthropic API using the provided client.  \n",
    "\n",
    "**get_hint:**  \n",
    "- Creates a prompt asking for a subtle astronomy-related hint about the secret word.  \n",
    "- Sends the request to the Claude model with a short token limit.  \n",
    "- Returns the model’s response text as the hint.  \n"
   ]
  },
  {
   "cell_type": "code",
   "execution_count": 13,
   "id": "652cd2ba",
   "metadata": {},
   "outputs": [],
   "source": [
    "#initialize Anthropic client with API key\n",
    "client = Anthropic(api_key=ANTHROPIC_API_KEY)\n",
    "\n",
    "class WordleLLMHelper:\n",
    "    def __init__(self, client):\n",
    "        self.client = client\n",
    "\n",
    "    def get_hint(self, word):\n",
    "        #create a prompt for the astronomy hint\n",
    "        prompt = f\"Give a subtle one-sentence astronomy hint for the word '{word}' without saying the word itself.\"\n",
    "        #try and except block for error handling\n",
    "        try:\n",
    "            response = self.client.messages.create(\n",
    "                model=\"claude-sonnet-4-20250514\",\n",
    "                max_tokens=50,\n",
    "                messages=[{\"role\": \"user\", \"content\": prompt}]\n",
    "            )\n",
    "            return response.content[0].text\n",
    "        except Exception as e:\n",
    "            return f\"(⚠️ Hint unavailable: {e})\""
   ]
  },
  {
   "cell_type": "markdown",
   "id": "1d4bf56e",
   "metadata": {},
   "source": [
    "# play_wordle Function\n",
    "\n",
    "**Setup:**  \n",
    "- Asks the player to choose a difficulty level (easy, medium, hard).  \n",
    "- Loads the valid words list and the astronomy word list for the chosen difficulty.  \n",
    "- Creates a new Wordle game and an LLM helper for hints.  \n",
    "- Prints the welcome message and rules.  \n",
    "\n",
    "**Game Loop:**  \n",
    "- Runs until the game is over.  \n",
    "- Prompts the player for a guess and checks if it’s valid.  \n",
    "- Shows feedback with green, yellow, and gray markers.  \n",
    "- If the guess matches the secret word:\n",
    "  - Prints a win message.  \n",
    "  - Updates player statistics and shows a histogram.  \n",
    "  - Ends the function.  \n",
    "- After 3 failed guesses, asks Claude for a subtle astronomy hint and shows it to the player.  \n",
    "\n",
    "**Game Over:**  \n",
    "- If the player runs out of attempts without guessing correctly:  \n",
    "  - Reveals the secret word.  \n",
    "  - Updates statistics and shows the performance histogram.  \n"
   ]
  },
  {
   "cell_type": "code",
   "execution_count": 14,
   "id": "651071f9",
   "metadata": {},
   "outputs": [],
   "source": [
    "stats = PlayerStats()   # one stats tracker for the whole session\n",
    "\n",
    "def play_wordle():\n",
    "    difficulty = input(\"Choose difficulty (easy / medium / hard): \").strip().lower()\n",
    "    if difficulty not in [\"easy\", \"medium\", \"hard\"]:\n",
    "        print(\"Invalid choice. Defaulting to 'easy'.\")\n",
    "        difficulty = \"easy\"\n",
    "\n",
    "    # ✅ Load word lists\n",
    "    valid_words = load_valid_words()     # full dictionary for allowed guesses\n",
    "    word_list = load_words(difficulty)   # astronomy secret word list\n",
    "    game = WordleGame(word_list)\n",
    "    helper = WordleLLMHelper(client)\n",
    "\n",
    "    print(f\"\\nWelcome to Astronomy Wordle! 🚀 Difficulty: {difficulty.title()}\")\n",
    "    print(\"Guess the 5-letter astronomy word. You have 6 tries.\")\n",
    "\n",
    "    while not game.is_game_over():\n",
    "        guess = input(f\"\\nAttempt {game.attempts+1}/6 → \").strip().upper()\n",
    "\n",
    "        # ✅ Check valid words\n",
    "        if guess not in valid_words:\n",
    "            print(\"⚠️ Invalid word! Please try again.\")\n",
    "            continue\n",
    "\n",
    "        feedback = game.make_guess(guess)\n",
    "\n",
    "        if isinstance(feedback, str):  # wrong input length\n",
    "            print(feedback)\n",
    "            continue\n",
    "\n",
    "        # ✅ Improved feedback display\n",
    "        symbols = \"\".join([symbol for symbol, letter in feedback])\n",
    "        letters = \" \".join([letter for symbol, letter in feedback])\n",
    "        display(Markdown(f\"{symbols}\\n{letters}\"))\n",
    "\n",
    "        # ✅ Win condition\n",
    "        if guess == game.secret_word:\n",
    "            print(\"\\n🎉 Correct! You found the word!\")\n",
    "            stats.record_game(game.attempts, won=True)   # update stats\n",
    "            stats.plot_histogram()\n",
    "            return\n",
    "\n",
    "        # After 3 failed guesses → Claude hint\n",
    "        if game.attempts == 3 and guess != game.secret_word:\n",
    "            hint = helper.get_hint(game.secret_word)\n",
    "            print(f\"\\n💡 Hint: {hint}\")\n",
    "\n",
    "    # ✅ Loss condition\n",
    "    print(f\"\\n❌ Out of attempts! The word was: {game.reveal_word()}\")\n",
    "    stats.record_game(game.max_attempts, won=False)      # update stats\n",
    "    stats.plot_histogram()\n"
   ]
  },
  {
   "cell_type": "markdown",
   "id": "9c65ee33",
   "metadata": {},
   "source": [
    "# ✅ Results and Reflection\n",
    "We successfully built an educational game that reinforces both programming and astronomy concepts.\n",
    "\n",
    "\n",
    "The project demonstrates Python skills across OOP, file handling, data visualization, and API usage.\n",
    "\n",
    "\n",
    "We also practiced collaboration with GitHub to share and commit code.\n",
    "We went into the project with no prior coding knowledge other than what we learned from this class. The best way to learn is by actually doing, so this project was the perfect opportunity for us both to learn somthing new and overcome obstacles. Getting started was a challenge but overall, through trial and error, finishing this project was a rewarding experience that, we can say, improved our understanding of code. \n",
    "\n",
    "  \n",
    "\n",
    "Future improvements:\n",
    "Add a GUI using Tkinter or Streamlit.\n",
    "\n",
    "\n",
    "Store stats in an external JSON or database for long-term tracking.\n",
    "\n",
    "\n",
    "Add multiplayer or leaderboard functionality.\n",
    "\n",
    "\n",
    "Expand word lists to cover more astronomy topics.\n",
    "\n",
    "\n",
    "\n",
    "# 📚 Conclusion\n",
    "This project shows how simple programming concepts can be combined to make something creative and educational. The skills displayed in this project, we belive show a firm decent understanding of the material covered in the lectures so far. By adapting Wordle into an astronomy-themed game, we reinforced:\n",
    "Object-Oriented Programming\n",
    "\n",
    "\n",
    "File handling\n",
    "\n",
    "\n",
    "Data visualization\n",
    "\n",
    "\n",
    "API integration\n",
    "\n",
    "\n",
    "Most importantly, we created something fun that both tests and teaches astronomy knowledge.\n"
   ]
  },
  {
   "cell_type": "markdown",
   "id": "3a8c8bb7",
   "metadata": {},
   "source": [
    "# Partner contribution-\n",
    "\n",
    "**Allison**- Project outline, draft of wordle, Introduction, main wordle mechanics classes/code, and difficulty .txt files and requirment.txt, conclusion markdowns, cleaned up code/debug, presented\n",
    "\n",
    "**Eling**- Histogram cell code and playerstats, wordloading, wordlegame, LLM Helper, play wordle, conclusion markdowns, cleaned up code, presented"
   ]
  },
  {
   "cell_type": "markdown",
   "id": "176f03f5",
   "metadata": {},
   "source": [
    "# External Resources Used:\n",
    "\n",
    "- We downloaded a pre-existing valid wordle words .txt file from this github repository:\n",
    "https://gist.github.com/dracos/dd0668f281e685bad51479e5acaadb93\n"
   ]
  },
  {
   "cell_type": "markdown",
   "id": "aad66d69",
   "metadata": {},
   "source": [
    "Now, just run the play_wordle() cell and you can play our Astronomy Wordle!!"
   ]
  },
  {
   "cell_type": "code",
   "execution_count": 15,
   "id": "a58e3474",
   "metadata": {},
   "outputs": [
    {
     "name": "stdout",
     "output_type": "stream",
     "text": [
      "\n",
      "Welcome to Astronomy Wordle! 🚀 Difficulty: Easy\n",
      "Guess the 5-letter astronomy word. You have 6 tries.\n"
     ]
    },
    {
     "data": {
      "text/markdown": [
       "🟨🟨⬜⬜⬜\n",
       "E A R T H"
      ],
      "text/plain": [
       "<IPython.core.display.Markdown object>"
      ]
     },
     "metadata": {},
     "output_type": "display_data"
    },
    {
     "data": {
      "text/markdown": [
       "🟩⬜⬜🟨⬜\n",
       "S O L A R"
      ],
      "text/plain": [
       "<IPython.core.display.Markdown object>"
      ]
     },
     "metadata": {},
     "output_type": "display_data"
    },
    {
     "data": {
      "text/markdown": [
       "🟩⬜🟩⬜⬜\n",
       "S T A R S"
      ],
      "text/plain": [
       "<IPython.core.display.Markdown object>"
      ]
     },
     "metadata": {},
     "output_type": "display_data"
    },
    {
     "name": "stdout",
     "output_type": "stream",
     "text": [
      "\n",
      "💡 Hint: The vast expanse between celestial bodies where starlight travels unimpeded through the cosmic void.\n"
     ]
    },
    {
     "data": {
      "text/markdown": [
       "🟩🟩🟩🟩🟩\n",
       "S P A C E"
      ],
      "text/plain": [
       "<IPython.core.display.Markdown object>"
      ]
     },
     "metadata": {},
     "output_type": "display_data"
    },
    {
     "name": "stdout",
     "output_type": "stream",
     "text": [
      "\n",
      "🎉 Correct! You found the word!\n"
     ]
    },
    {
     "data": {
      "image/png": "[encoded data removed]",
      "text/plain": [
       "<Figure size 800x500 with 1 Axes>"
      ]
     },
     "metadata": {},
     "output_type": "display_data"
    }
   ],
   "source": [
    "play_wordle()"
   ]
  }
 ],
 "metadata": {
  "kernelspec": {
   "display_name": "base",
   "language": "python",
   "name": "python3"
  },
  "language_info": {
   "codemirror_mode": {
    "name": "ipython",
    "version": 3
   },
   "file_extension": ".py",
   "mimetype": "text/x-python",
   "name": "python",
   "nbconvert_exporter": "python",
   "pygments_lexer": "ipython3",
   "version": "3.13.5"
  }
 },
 "nbformat": 4,
 "nbformat_minor": 5
}
