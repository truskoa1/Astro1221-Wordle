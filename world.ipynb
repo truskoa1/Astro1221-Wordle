{
 "cells": [
  {
   "cell_type": "markdown",
   "id": "f25cb14a",
   "metadata": {},
   "source": [
    "# Project 1: Astronomy Wordle Game  \n",
    "*Authors: Eling Cheng and Allison Trusko*   \n",
    "\n",
    "---\n",
    "\n",
    "## 📌 Introduction\n",
    "In this project, we implement a **Wordle-style game** using astronomy terms.  \n",
    "Players guess 5-letter astronomy words with feedback given in color-coded form (green, yellow, gray).  \n",
    "\n",
    "Goals:\n",
    "- Demonstrate Python skills from **Weeks 1–4** (OOP, data structures, file I/O, NumPy, Matplotlib).\n",
    "- Show how fundamental programming tools can build a useful educational game.\n",
    "- Track player statistics across multiple games.  \n",
    "\n",
    "---\n",
    "\n",
    "## 🎮 How to Play\n",
    "- You have **6 attempts** to guess the secret word.\n",
    "- Feedback after each guess:\n",
    "  - 🟩 = correct letter in the correct spot  \n",
    "  - 🟨 = letter is in the word but wrong spot  \n",
    "  - ⬜ = letter not in the word  \n",
    "- After 3 failed guesses, you’ll receive a **subtle astronomy hint from Claude AI**.\n",
    "\n",
    "---\n",
    "\n",
    "## 🔍 Features\n",
    "- Difficulty levels: **Easy / Medium / Hard**  \n",
    "- Color-coded feedback like Wordle  \n",
    "- Claude AI integration for hints  \n",
    "- External `.txt` files for word lists (easy to expand or customize)\n",
    "\n"
   ]
  },
  {
   "cell_type": "markdown",
   "id": "e33f5e0f",
   "metadata": {},
   "source": []
  }
 ],
 "metadata": {
  "language_info": {
   "name": "python"
  }
 },
 "nbformat": 4,
 "nbformat_minor": 5
}
